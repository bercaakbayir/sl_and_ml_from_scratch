{
 "cells": [
  {
   "cell_type": "markdown",
   "id": "4da57781-7a3f-4533-bb7b-cff9cb0de976",
   "metadata": {},
   "source": [
    "# Hierarchical Clustering from Scratch"
   ]
  },
  {
   "cell_type": "code",
   "execution_count": 2,
   "id": "4d085350-71e3-420a-8936-1c650ddd635b",
   "metadata": {
    "tags": []
   },
   "outputs": [],
   "source": [
    "import pandas as pd\n",
    "import numpy as np\n",
    "import matplotlib.pyplot as plt\n",
    "import random"
   ]
  },
  {
   "cell_type": "code",
   "execution_count": 44,
   "id": "06901ad2-9339-4b60-b804-1b0827d71362",
   "metadata": {
    "tags": []
   },
   "outputs": [],
   "source": [
    "import numpy as np\n",
    "from scipy.spatial.distance import pdist, squareform\n",
    "\n",
    "class HierarchicalClustering:\n",
    "    def __init__(self, linkage='complete'):\n",
    "        self.linkage = linkage\n",
    "\n",
    "    def euclidean_distance(self, point1, point2):\n",
    "        return np.linalg.norm(np.array(point1) - np.array(point2))\n",
    "\n",
    "    def calculate_distance_matrix(self, data):\n",
    "        return squareform(pdist(data, metric='euclidean'))\n",
    "\n",
    "    def complete_linkage(self, distance_matrix, cluster_indices):\n",
    "        min_distance = np.inf\n",
    "        closest_clusters = None\n",
    "        for i in range(len(cluster_indices)):\n",
    "            for j in range(i + 1, len(cluster_indices)):\n",
    "                max_distance = max(distance_matrix[x, y] for x in cluster_indices[i] for y in cluster_indices[j])\n",
    "                if max_distance < min_distance:\n",
    "                    min_distance = max_distance\n",
    "                    closest_clusters = (i, j)\n",
    "        return closest_clusters, min_distance\n",
    "\n",
    "    def single_linkage(self, distance_matrix, cluster_indices):\n",
    "        min_distance = np.inf\n",
    "        closest_clusters = None\n",
    "        for i in range(len(cluster_indices)):\n",
    "            for j in range(i + 1, len(cluster_indices)):\n",
    "                min_dist = min(distance_matrix[x, y] for x in cluster_indices[i] for y in cluster_indices[j])\n",
    "                if min_dist < min_distance:\n",
    "                    min_distance = min_dist\n",
    "                    closest_clusters = (i, j)\n",
    "        return closest_clusters, min_distance\n",
    "\n",
    "    def average_linkage(self, distance_matrix, cluster_indices):\n",
    "        min_distance = np.inf\n",
    "        closest_clusters = None\n",
    "        for i in range(len(cluster_indices)):\n",
    "            for j in range(i + 1, len(cluster_indices)):\n",
    "                avg_distance = np.mean([distance_matrix[x, y] for x in cluster_indices[i] for y in cluster_indices[j]])\n",
    "                if avg_distance < min_distance:\n",
    "                    min_distance = avg_distance\n",
    "                    closest_clusters = (i, j)\n",
    "        return closest_clusters, min_distance\n",
    "\n",
    "    def centroid_linkage(self, cluster_indices, data):\n",
    "        min_distance = np.inf\n",
    "        closest_clusters = None\n",
    "        for i in range(len(cluster_indices)):\n",
    "            for j in range(i + 1, len(cluster_indices)):\n",
    "                centroid_i = np.mean([data[x] for x in cluster_indices[i]], axis=0)\n",
    "                centroid_j = np.mean([data[x] for x in cluster_indices[j]], axis=0)\n",
    "                centroid_dist = self.euclidean_distance(centroid_i, centroid_j)\n",
    "                if centroid_dist < min_distance:\n",
    "                    min_distance = centroid_dist\n",
    "                    closest_clusters = (i, j)\n",
    "        return closest_clusters, min_distance\n",
    "\n",
    "    def fit(self, data):\n",
    "        distance_matrix = self.calculate_distance_matrix(data)\n",
    "        cluster_indices = [[i] for i in range(len(data))]\n",
    "        merges = []  \n",
    "        cluster_sizes = {i: 1 for i in range(len(data))}\n",
    "        cluster_id = len(data)\n",
    "        \n",
    "        while len(cluster_indices) > 1:\n",
    "            if self.linkage == 'complete':\n",
    "                closest_clusters, min_distance = self.complete_linkage(distance_matrix, cluster_indices)\n",
    "            elif self.linkage == 'single':\n",
    "                closest_clusters, min_distance = self.single_linkage(distance_matrix, cluster_indices)\n",
    "            elif self.linkage == 'average':\n",
    "                closest_clusters, min_distance = self.average_linkage(distance_matrix, cluster_indices)\n",
    "            elif self.linkage == 'centroid':\n",
    "                closest_clusters, min_distance = self.centroid_linkage(cluster_indices, data)\n",
    "            else:\n",
    "                raise ValueError(f\"Linkage type '{self.linkage}' is not supported\")\n",
    "            \n",
    "            if closest_clusters is None:\n",
    "                break\n",
    "            \n",
    "            i, j = closest_clusters\n",
    "            new_cluster = cluster_indices[i] + cluster_indices[j]\n",
    "            new_cluster_size = cluster_sizes[i] + cluster_sizes[j]\n",
    "            merges.append((i, j, min_distance, new_cluster_size))\n",
    "            \n",
    "            del cluster_indices[max(i, j)]\n",
    "            del cluster_indices[min(i, j)]\n",
    "            cluster_indices.append(new_cluster)\n",
    "            \n",
    "            cluster_sizes[cluster_id] = new_cluster_size\n",
    "            cluster_id += 1\n",
    "        \n",
    "        return merges, cluster_indices\n"
   ]
  },
  {
   "cell_type": "code",
   "execution_count": 45,
   "id": "02b74be9-af63-42a2-a616-6f4d7f3568d9",
   "metadata": {
    "tags": []
   },
   "outputs": [],
   "source": [
    "def generate_data(num_clusters, points_per_cluster, spread):\n",
    "    centers = np.random.rand(num_clusters, 2) * 10 # Küme merkezleri için rastgele değerler\n",
    "    data = []\n",
    "    for i in range(num_clusters):\n",
    "        # Merkez etrafında dağılmış rastgele noktalar\n",
    "        points = centers[i] + np.random.randn(points_per_cluster, 2) * spread\n",
    "        data.extend(points)\n",
    "    return np.array(data)\n",
    "\n",
    "\n",
    "# Veri Üretimi\n",
    "num_clusters = 4 # Küme sayısı\n",
    "points_per_cluster = 50 # Her kümedeki nokta sayısı\n",
    "spread = 1.5  # Dağılım parametresi\n",
    "data = generate_data(num_clusters, points_per_cluster, spread)"
   ]
  },
  {
   "cell_type": "code",
   "execution_count": 46,
   "id": "7470c42c-7d04-4eb2-8639-eb6e0ebcfdac",
   "metadata": {
    "tags": []
   },
   "outputs": [],
   "source": [
    "hc = HierarchicalClustering(linkage='average')\n",
    "merges, cluster_indices = hc.fit(data)\n"
   ]
  },
  {
   "cell_type": "code",
   "execution_count": 48,
   "id": "73f07186-f00c-46d7-8911-9e2ee12bdd7f",
   "metadata": {
    "tags": []
   },
   "outputs": [
    {
     "data": {
      "image/png": "[encoded data removed]",
      "text/plain": [
       "<Figure size 800x600 with 1 Axes>"
      ]
     },
     "metadata": {},
     "output_type": "display_data"
    }
   ],
   "source": [
    "\n",
    "colors = sns.color_palette(\"hsv\", len(cluster_indices))\n",
    "\n",
    "plt.figure(figsize=(8, 6))\n",
    "for i, cluster in enumerate(cluster_indices):\n",
    "    cluster_points = data[cluster]\n",
    "    plt.scatter(cluster_points[:, 0], cluster_points[:, 1], color=colors[i], label=f\"Cluster {i+1}\")\n",
    "\n",
    "plt.title(\"Final Clusters in Hierarchical Clustering\")\n",
    "plt.xlabel(\"Feature 1\")\n",
    "plt.ylabel(\"Feature 2\")\n",
    "plt.legend()\n",
    "plt.show()\n"
   ]
  },
  {
   "cell_type": "code",
   "execution_count": null,
   "id": "0313b987-353a-4e92-8575-3cf279d80625",
   "metadata": {},
   "outputs": [],
   "source": []
  }
 ],
 "metadata": {
  "kernelspec": {
   "display_name": "Python 3 (ipykernel)",
   "language": "python",
   "name": "python3"
  },
  "language_info": {
   "codemirror_mode": {
    "name": "ipython",
    "version": 3
   },
   "file_extension": ".py",
   "mimetype": "text/x-python",
   "name": "python",
   "nbconvert_exporter": "python",
   "pygments_lexer": "ipython3",
   "version": "3.11.5"
  }
 },
 "nbformat": 4,
 "nbformat_minor": 5
}
