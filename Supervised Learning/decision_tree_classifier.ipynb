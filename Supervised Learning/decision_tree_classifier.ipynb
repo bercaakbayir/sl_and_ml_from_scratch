{
 "cells": [
  {
   "cell_type": "code",
   "execution_count": 1,
   "id": "dfb8fa3d-079a-4f56-a9ab-3e07c9647bf5",
   "metadata": {
    "tags": []
   },
   "outputs": [
    {
     "name": "stderr",
     "output_type": "stream",
     "text": [
      "/Users/bercaakbayir/anaconda3/lib/python3.11/site-packages/pandas/core/arrays/masked.py:60: UserWarning: Pandas requires version '1.3.6' or newer of 'bottleneck' (version '1.3.5' currently installed).\n",
      "  from pandas.core import (\n"
     ]
    }
   ],
   "source": [
    "import pandas as pd\n",
    "import numpy as np"
   ]
  },
  {
   "cell_type": "code",
   "execution_count": 2,
   "id": "5262bafe-cb0f-4af3-8c14-f56b84f0c1af",
   "metadata": {
    "tags": []
   },
   "outputs": [],
   "source": []
  },
  {
   "cell_type": "code",
   "execution_count": 9,
   "id": "696cc11b-9446-48c8-963b-4af0de3415ab",
   "metadata": {
    "tags": []
   },
   "outputs": [],
   "source": [
    "class DecisionTree:   \n",
    "    class Node:\n",
    "        def __init__(self, feature=None, threshold=None, left=None, right=None, value=None):\n",
    "            self.feature = feature\n",
    "            self.threshold = threshold\n",
    "            self.left = left\n",
    "            self.right = right\n",
    "            self.value = value\n",
    "        \n",
    "    def __init__(self, mode='classifier', max_depth=5):\n",
    "        assert mode in ['classifier', 'regressor'], \"Mode must be 'classifier' or 'regressor'\"\n",
    "        self.mode = mode\n",
    "        self.max_depth = max_depth\n",
    "        self.root = None\n",
    "        \n",
    "    def _gini(self, y):\n",
    "        classes, counts = np.unique(y, return_counts=True)\n",
    "        probs = counts / counts.sum()\n",
    "        return 1-np.sum(probs**2)\n",
    "    \n",
    "    def _mse(self, y):\n",
    "        return np.mean((y - np.mean(y)) ** 2)\n",
    "    \n",
    "    def _split_dataset(self, X, y, feature_index, threshold):\n",
    "        left_mask = X[:, feature_index] <= threshold\n",
    "        right_mask = X[:, feature_index] > threshold\n",
    "        return X[left_mask], X[right_mask], y[left_mask], y[right_mask]\n",
    "    \n",
    "    def _best_split(self, X, y):\n",
    "        best_metric = float('inf') if self.mode == 'regressor' else 1\n",
    "        best_feature, best_thresh = None, None\n",
    "\n",
    "        for feature_index in range(X.shape[1]):\n",
    "            thresholds = np.unique(X[:, feature_index])\n",
    "            for t in thresholds:\n",
    "                _, _, y_left, y_right = self._split_dataset(X, y, feature_index, t)\n",
    "                if len(y_left) == 0 or len(y_right) == 0:\n",
    "                    continue\n",
    "\n",
    "                if self.mode == 'classifier':\n",
    "                    metric = (len(y_left) * self._gini(y_left) + len(y_right) * self._gini(y_right)) / len(y)\n",
    "                    if metric < best_metric:\n",
    "                        best_metric = metric\n",
    "                        best_feature = feature_index\n",
    "                        best_thresh = t\n",
    "                else:  # regressor\n",
    "                    metric = (len(y_left) * self._mse(y_left) + len(y_right) * self._mse(y_right)) / len(y)\n",
    "                    if metric < best_metric:\n",
    "                        best_metric = metric\n",
    "                        best_feature = feature_index\n",
    "                        best_thresh = t\n",
    "\n",
    "        return best_feature, best_thresh\n",
    "\n",
    "    def _build_tree(self, X, y, depth):\n",
    "        if self.mode == 'classifier':\n",
    "            if len(set(y)) == 1 or depth == self.max_depth:\n",
    "                value = np.bincount(y).argmax()\n",
    "                return self.Node(value=value)\n",
    "        else:\n",
    "            if len(set(y)) == 1 or depth == self.max_depth:\n",
    "                return self.Node(value=np.mean(y))\n",
    "\n",
    "        feat, thresh = self._best_split(X, y)\n",
    "        if feat is None:\n",
    "            value = np.bincount(y).argmax() if self.mode == 'classifier' else np.mean(y)\n",
    "            return self.Node(value=value)\n",
    "\n",
    "        X_left, X_right, y_left, y_right = self._split_dataset(X, y, feat, thresh)\n",
    "        left = self._build_tree(X_left, y_left, depth+1)\n",
    "        right = self._build_tree(X_right, y_right, depth+1)\n",
    "        return self.Node(feat, thresh, left, right)\n",
    "\n",
    "    def fit(self, X, y):\n",
    "        X = np.array(X)\n",
    "        y = np.array(y)\n",
    "        self.root = self._build_tree(X, y, 0)\n",
    "\n",
    "    def _predict_one(self, x, tree):\n",
    "        if tree.value is not None:\n",
    "            return tree.value\n",
    "        if x[tree.feature] <= tree.threshold:\n",
    "            return self._predict_one(x, tree.left)\n",
    "        else:\n",
    "            return self._predict_one(x, tree.right)\n",
    "\n",
    "    def predict(self, X):\n",
    "        return np.array([self._predict_one(x, self.root) for x in X])\n",
    "        \n",
    "\n",
    "        "
   ]
  },
  {
   "cell_type": "code",
   "execution_count": 10,
   "id": "ce9ccf10-a30e-4de5-9753-cdb821e0f095",
   "metadata": {
    "tags": []
   },
   "outputs": [
    {
     "name": "stdout",
     "output_type": "stream",
     "text": [
      "Classifier predictions: [0 0 1 1 1]\n"
     ]
    }
   ],
   "source": [
    "X_clf = np.array([[2, 3], [1, 1], [3, 2], [4, 5], [3, 4]])\n",
    "y_clf = np.array([0, 0, 1, 1, 1])\n",
    "\n",
    "clf = DecisionTree(mode='classifier', max_depth=3)\n",
    "clf.fit(X_clf, y_clf)\n",
    "print(\"Classifier predictions:\", clf.predict(X_clf))\n"
   ]
  },
  {
   "cell_type": "code",
   "execution_count": 11,
   "id": "8626f1f8-33ac-48c9-a3ed-9fd6eb3f65f3",
   "metadata": {
    "tags": []
   },
   "outputs": [
    {
     "name": "stdout",
     "output_type": "stream",
     "text": [
      "Regressor predictions: [1.2 1.  2.5 3.7 3. ]\n"
     ]
    }
   ],
   "source": [
    "y_reg = np.array([1.2, 1.0, 2.5, 3.7, 3.0])\n",
    "\n",
    "reg = DecisionTree(mode='regressor', max_depth=3)\n",
    "reg.fit(X_clf, y_reg)\n",
    "print(\"Regressor predictions:\", reg.predict(X_clf))\n"
   ]
  },
  {
   "cell_type": "code",
   "execution_count": 12,
   "id": "c8cc93c9-4136-47ba-9035-f711ad2de347",
   "metadata": {
    "tags": []
   },
   "outputs": [
    {
     "name": "stdout",
     "output_type": "stream",
     "text": [
      "Predictions: [1 0 2 1 1 0 1 2 1 1 2 0 0 0 0 1 2 1 1 2 0 2 0 2 2 2 2 2 0 0]\n",
      "True Labels: [1 0 2 1 1 0 1 2 1 1 2 0 0 0 0 1 2 1 1 2 0 2 0 2 2 2 2 2 0 0]\n",
      "Accuracy: 1.0\n"
     ]
    }
   ],
   "source": [
    "from sklearn.datasets import load_iris\n",
    "from sklearn.model_selection import train_test_split\n",
    "from sklearn.metrics import accuracy_score\n",
    "\n",
    "# Load dataset\n",
    "iris = load_iris()\n",
    "X, y = iris.data, iris.target\n",
    "\n",
    "# Train-test split\n",
    "X_train, X_test, y_train, y_test = train_test_split(X, y, test_size=0.2, random_state=42)\n",
    "\n",
    "# Initialize and train custom DecisionTree classifier\n",
    "tree = DecisionTree(mode='classifier', max_depth=3)\n",
    "tree.fit(X_train, y_train)\n",
    "\n",
    "# Predict and evaluate\n",
    "y_pred = tree.predict(X_test)\n",
    "accuracy = accuracy_score(y_test, y_pred)\n",
    "\n",
    "print(\"Predictions:\", y_pred)\n",
    "print(\"True Labels:\", y_test)\n",
    "print(\"Accuracy:\", accuracy)\n"
   ]
  },
  {
   "cell_type": "code",
   "execution_count": null,
   "id": "c8611fd4-f469-4a68-b9cd-251955ea2dfb",
   "metadata": {},
   "outputs": [],
   "source": []
  }
 ],
 "metadata": {
  "kernelspec": {
   "display_name": "Python 3 (ipykernel)",
   "language": "python",
   "name": "python3"
  },
  "language_info": {
   "codemirror_mode": {
    "name": "ipython",
    "version": 3
   },
   "file_extension": ".py",
   "mimetype": "text/x-python",
   "name": "python",
   "nbconvert_exporter": "python",
   "pygments_lexer": "ipython3",
   "version": "3.11.5"
  }
 },
 "nbformat": 4,
 "nbformat_minor": 5
}
